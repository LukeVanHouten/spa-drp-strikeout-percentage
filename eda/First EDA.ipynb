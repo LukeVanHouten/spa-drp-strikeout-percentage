{
 "cells": [
  {
   "cell_type": "markdown",
   "id": "4567fe7e-4089-47c9-ad27-1419924d0bcc",
   "metadata": {},
   "source": [
    "# First Baseball Analytics Check-in"
   ]
  },
  {
   "cell_type": "markdown",
   "id": "3676333c-a8d7-48be-beb1-d404e17ee440",
   "metadata": {},
   "source": [
    "**Goal**: Pick an advanced metrics like ERA+, WIP, WAR, etc, and calculate the metric for the season for the starting lineup of the Mariners"
   ]
  },
  {
   "cell_type": "code",
   "execution_count": null,
   "id": "2cab583c-dbae-4bd5-8ff7-2d5ef7cbb7cd",
   "metadata": {},
   "outputs": [],
   "source": [
    "# Load baseball package\n",
    "require(baseballr)\n",
    "require(dplyr)"
   ]
  },
  {
   "cell_type": "markdown",
   "id": "31cc29e8-3092-4f59-a554-8d988e347e45",
   "metadata": {},
   "source": [
    "The documentation for the `baseballr` package can be found [here](https://billpetti.github.io/baseballr/)"
   ]
  },
  {
   "cell_type": "markdown",
   "id": "07bbcc69-918d-42a2-a3f2-bba2c25effeb",
   "metadata": {},
   "source": [
    "Some things that would be nice:\n",
    "- Functionalize any metric calculations\n",
    "- Create a visulization\n",
    "  - Ex. plot WAR over the XXX years for each of the players we're considering"
   ]
  },
  {
   "cell_type": "code",
   "execution_count": 1,
   "id": "2b86049e-7ec2-4fb3-9564-66f3601fffe2",
   "metadata": {},
   "outputs": [],
   "source": [
    "war <- function(hits, balls, strikes, ...) {\n",
    "    print('not implemented')\n",
    "}"
   ]
  }
 ],
 "metadata": {
  "kernelspec": {
   "display_name": "R",
   "language": "R",
   "name": "ir"
  },
  "language_info": {
   "codemirror_mode": "r",
   "file_extension": ".r",
   "mimetype": "text/x-r-source",
   "name": "R",
   "pygments_lexer": "r",
   "version": "4.1.1"
  }
 },
 "nbformat": 4,
 "nbformat_minor": 5
}
